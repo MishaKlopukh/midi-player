{
 "cells": [
  {
   "cell_type": "markdown",
   "id": "8ac4a224",
   "metadata": {
    "id": "lXbMqAnXDK1v"
   },
   "source": [
    "[![Open In Colab](https://colab.research.google.com/assets/colab-badge.svg)](https://colab.research.google.com/github/drscotthawley/midi-player/blob/main/examples/midi_player.ipynb)\n",
    "\n",
    "\n",
    "# Jupyter/Colab/WandB-Compatible MIDI Player\n",
    "*-- Scott H. Hawley, [@drscotthawley](https://twitter.com/drscotthawley)*\n",
    "\n",
    "This creates a Jupyter-compatible rendering of the [`html-midi-player`](https://github.com/cifkao/html-midi-player) by Ondřej Cífka [@cifkao](https://twitter.com/cifkao), that uses code from Google Magenta's [`magenta-js`](https://github.com/magenta/magenta-js/tree/master/music/) library.\n",
    "\n",
    "Based partly on code in Tony Hirst's blog post, [\"Fragment – Embedding srcdoc IFrames in Jupyter Notebooks\"](https://blog.ouseful.info/2021/11/24/fragment-embedding-srcdoc-iframes-in-jupyter-notebooks/), modified apropos by Scott H. Hawley"
   ]
  },
  {
   "cell_type": "code",
   "execution_count": 1,
   "id": "24e4ad77",
   "metadata": {},
   "outputs": [
    {
     "name": "stdout",
     "output_type": "stream",
     "text": [
      "Requirement already satisfied: midi-player in /Users/shawley/github/midi-player (0.2)\n",
      "\n",
      "\u001b[1m[\u001b[0m\u001b[34;49mnotice\u001b[0m\u001b[1;39;49m]\u001b[0m\u001b[39;49m A new release of pip is available: \u001b[0m\u001b[31;49m23.2.1\u001b[0m\u001b[39;49m -> \u001b[0m\u001b[32;49m23.3.1\u001b[0m\n",
      "\u001b[1m[\u001b[0m\u001b[34;49mnotice\u001b[0m\u001b[1;39;49m]\u001b[0m\u001b[39;49m To update, run: \u001b[0m\u001b[32;49mpip install --upgrade pip\u001b[0m\n"
     ]
    }
   ],
   "source": [
    "!pip install midi-player"
   ]
  },
  {
   "cell_type": "code",
   "execution_count": 1,
   "id": "22eb8f8e",
   "metadata": {},
   "outputs": [],
   "source": [
    "from midi_player import MIDIPlayer\n",
    "from midi_player.stylers import basic, cifka_advanced"
   ]
  },
  {
   "cell_type": "markdown",
   "id": "9c94182e",
   "metadata": {
    "id": "ApO2y6zKxMlu"
   },
   "source": [
    "# Basic Execution"
   ]
  },
  {
   "cell_type": "code",
   "execution_count": 2,
   "id": "2aef9abf",
   "metadata": {
    "id": "bfd2eaf9"
   },
   "outputs": [],
   "source": [
    "midi_file_url = \"https://magenta.github.io/magenta-js/music/demos/melody.mid\""
   ]
  },
  {
   "cell_type": "markdown",
   "id": "3cbdbf17",
   "metadata": {
    "id": "a90dc044"
   },
   "source": [
    "Here's the invocation of the new object, which sits inside an iframe.\n",
    "\n",
    "(Note that this uses no IPython code -- no `display`, etc. -- so it should also work in non-Jupyter contexts.)"
   ]
  },
  {
   "cell_type": "code",
   "execution_count": 3,
   "id": "0224025e",
   "metadata": {
    "colab": {
     "base_uri": "https://localhost:8080/",
     "height": 196
    },
    "id": "b3af40e5",
    "outputId": "5b721cf2-6ce8-4ff3-bba5-d167e229574e"
   },
   "outputs": [
    {
     "data": {
      "text/html": [
       "<iframe srcdoc=\"&lt;script src=&quot;https://cdn.jsdelivr.net/combine/npm/tone@14.7.58,npm/@magenta/music@1.23.1/es6/core.js,npm/focus-visible@5,npm/html-midi-player@1.5.0&quot;&gt;&lt;/script&gt;&lt;a href=&quot;https://magenta.github.io/magenta-js/music/demos/melody.mid&quot; target=&quot;_blank&quot;&gt;Download MIDI&lt;/a&gt;&lt;br&gt;\n",
       "            &lt;midi-player src=&quot;https://magenta.github.io/magenta-js/music/demos/melody.mid&quot; sound-font visualizer=&quot;#myVisualizer&quot;&gt;&lt;/midi-player&gt;\n",
       "            &lt;midi-visualizer type=&quot;piano-roll&quot; id=&quot;myVisualizer&quot; style=&quot;background: #fff;&quot;&gt;&lt;/midi-visualizer&gt;\" width=\"100%\" height=\"175\"\n",
       "            style=\"border:none !important;\"\n",
       "            \"allowfullscreen\" \"webkitallowfullscreen\" \"mozallowfullscreen\">'\n",
       "            </iframe>"
      ],
      "text/plain": [
       "<midi_player.midi_player.MIDIPlayer at 0x10431d4d0>"
      ]
     },
     "execution_count": 3,
     "metadata": {},
     "output_type": "execute_result"
    }
   ],
   "source": [
    "MIDIPlayer(midi_file_url, 175) # press play to see viz"
   ]
  },
  {
   "cell_type": "markdown",
   "id": "b0ee9b2e",
   "metadata": {
    "id": "3q0e2DMrV3bD"
   },
   "source": [
    "# Local Files"
   ]
  },
  {
   "cell_type": "code",
   "execution_count": 4,
   "id": "4d8d8bc2",
   "metadata": {
    "colab": {
     "base_uri": "https://localhost:8080/",
     "height": 421
    },
    "id": "cp52vjYoV27i",
    "outputId": "9c3a90f5-c292-49db-e05f-903b2854d746"
   },
   "outputs": [
    {
     "data": {
      "text/html": [
       "<iframe srcdoc=\"&lt;script src=&quot;https://cdn.jsdelivr.net/combine/npm/tone@14.7.58,npm/@magenta/music@1.23.1/es6/core.js,npm/focus-visible@5,npm/html-midi-player@1.5.0&quot;&gt;&lt;/script&gt;\n",
       "            &lt;midi-player src=&quot;data:audio/midi;base64,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&quot; sound-font visualizer=&quot;#myVisualizer&quot;&gt;&lt;/midi-player&gt;\n",
       "            &lt;midi-visualizer type=&quot;piano-roll&quot; id=&quot;myVisualizer&quot; style=&quot;background: #fff;&quot;&gt;&lt;/midi-visualizer&gt;\" width=\"100%\" height=\"400\"\n",
       "            style=\"border:none !important;\"\n",
       "            \"allowfullscreen\" \"webkitallowfullscreen\" \"mozallowfullscreen\">'\n",
       "            </iframe>"
      ],
      "text/plain": [
       "<midi_player.midi_player.MIDIPlayer at 0x105554750>"
      ]
     },
     "execution_count": 4,
     "metadata": {},
     "output_type": "execute_result"
    }
   ],
   "source": [
    "import os \n",
    "\n",
    "midi_file = \"../data/test_midi.mid\"  # if on colab, first upload your own midi file\n",
    "\n",
    "if not os.path.isfile(midi_file): # Just as a backup, for demo purposes\n",
    "   print(f\"File {midi_file} not found. Downloading a backup for demo purposes.\")\n",
    "   !wget -q -N \"https://cdn.jsdelivr.net/gh/cifkao/html-midi-player@2b12128/jazz.mid\" -O \"jazz.mid\"\n",
    "   midi_file = \"jazz.mid\"\n",
    "\n",
    "MIDIPlayer(midi_file, 400, styler=basic, dl=False)    # press play to see viz, disable file download"
   ]
  },
  {
   "cell_type": "markdown",
   "id": "95b73bbf",
   "metadata": {
    "id": "f3bf3132"
   },
   "source": [
    "# Fancier Viz Style\n",
    "Lifted from [this CodePen example](https://codepen.io/cifkao/pen/GRZxqZN)"
   ]
  },
  {
   "cell_type": "code",
   "execution_count": 6,
   "id": "a8956baa",
   "metadata": {
    "colab": {
     "base_uri": "https://localhost:8080/",
     "height": 181
    },
    "id": "8rkfrXl6ZFYn",
    "outputId": "f168eeb3-6dc2-4680-ee7c-625b594caeec"
   },
   "outputs": [
    {
     "data": {
      "text/html": [
       "<iframe srcdoc=\"&lt;script src=&quot;https://cdn.jsdelivr.net/combine/npm/tone@14.7.58,npm/@magenta/music@1.23.1/es6/core.js,npm/focus-visible@5,npm/html-midi-player@1.5.0&quot;&gt;&lt;/script&gt;\n",
       "\n",
       "&lt;style&gt;\n",
       "/* Custom player style */\n",
       "#section3 midi-player {\n",
       "  display: block;\n",
       "  width: inherit;\n",
       "  margin: 4px;\n",
       "  margin-bottom: 0;\n",
       "}\n",
       "#section3 midi-player::part(control-panel) {\n",
       "  background: #ff5;\n",
       "  border: 2px solid #000;\n",
       "  border-radius: 10px 10px 0 0;\n",
       "}\n",
       "#section3 midi-player::part(play-button) {\n",
       "  color: #353;\n",
       "  border: 2px solid currentColor;\n",
       "  background-color: #4d4;\n",
       "  border-radius: 20px;\n",
       "  transition: all 0.2s;\n",
       "  content: &#x27;hello&#x27;;\n",
       "}\n",
       "#section3 midi-player::part(play-button):hover {\n",
       "  color: #0a0;\n",
       "  background-color: #5f5;\n",
       "  border-radius: 10px;\n",
       "}\n",
       "#section3 midi-player::part(time) {\n",
       "  font-family: monospace;\n",
       "}\n",
       "\n",
       "/* Custom visualizer style */\n",
       "#section3 midi-visualizer .piano-roll-visualizer {\n",
       "  background: #ffd;\n",
       "  border: 2px solid black;\n",
       "  border-top: none;\n",
       "  border-radius: 0 0 10px 10px;\n",
       "  margin: 4px;\n",
       "  width: inherit;\n",
       "  margin-top: 0;\n",
       "  overflow: auto;\n",
       "}\n",
       "#section3 midi-visualizer svg rect.note {\n",
       "  opacity: 0.6;\n",
       "  stroke-width: 2;\n",
       "}\n",
       "#section3 midi-visualizer svg rect.note[data-instrument=&quot;0&quot;]{\n",
       "  fill: #e22;\n",
       "  stroke: #500;\n",
       "}\n",
       "#section3 midi-visualizer svg rect.note[data-instrument=&quot;2&quot;]{\n",
       "  fill: #2ee;\n",
       "  stroke: #055;\n",
       "}\n",
       "#section3 midi-visualizer svg rect.note[data-is-drum=&quot;true&quot;]{\n",
       "  fill: #888;\n",
       "  stroke: #888;\n",
       "}\n",
       "#section3 midi-visualizer svg rect.note.active {\n",
       "  opacity: 0.9;\n",
       "  stroke: #000;\n",
       "  stroke-width: 3;\n",
       "}\n",
       "&lt;/style&gt;\n",
       "\n",
       "&lt;section id=&quot;section3&quot;&gt;\n",
       "\n",
       "&lt;midi-player src=https://magenta.github.io/magenta-js/music/demos/melody.mid sound-font visualizer=&quot;#section3 midi-visualizer&quot;&gt;&lt;/midi-player&gt;\n",
       "&lt;midi-visualizer src=https://magenta.github.io/magenta-js/music/demos/melody.mid type=piano-roll&gt;&lt;/midi-visualizer&gt;\n",
       "&lt;/section&gt;\n",
       "\" width=\"100%\" height=\"160\"\n",
       "            style=\"border:none !important;\"\n",
       "            \"allowfullscreen\" \"webkitallowfullscreen\" \"mozallowfullscreen\">'\n",
       "            </iframe>"
      ],
      "text/plain": [
       "<midi_player.midi_player.MIDIPlayer at 0x104325ad0>"
      ]
     },
     "execution_count": 6,
     "metadata": {},
     "output_type": "execute_result"
    }
   ],
   "source": [
    "# web-hosted file\n",
    "MIDIPlayer(midi_file_url, 160, styler=cifka_advanced, dl=False)"
   ]
  },
  {
   "cell_type": "code",
   "execution_count": 7,
   "id": "85c93761",
   "metadata": {
    "colab": {
     "base_uri": "https://localhost:8080/",
     "height": 441
    },
    "id": "ab0df29f",
    "outputId": "bd8039cb-9cd7-4500-c8d0-284feb9f7cf2"
   },
   "outputs": [
    {
     "data": {
      "text/html": [
       "<iframe srcdoc=\"&lt;script src=&quot;https://cdn.jsdelivr.net/combine/npm/tone@14.7.58,npm/@magenta/music@1.23.1/es6/core.js,npm/focus-visible@5,npm/html-midi-player@1.5.0&quot;&gt;&lt;/script&gt;\n",
       "\n",
       "&lt;style&gt;\n",
       "/* Custom player style */\n",
       "#section3 midi-player {\n",
       "  display: block;\n",
       "  width: inherit;\n",
       "  margin: 4px;\n",
       "  margin-bottom: 0;\n",
       "}\n",
       "#section3 midi-player::part(control-panel) {\n",
       "  background: #ff5;\n",
       "  border: 2px solid #000;\n",
       "  border-radius: 10px 10px 0 0;\n",
       "}\n",
       "#section3 midi-player::part(play-button) {\n",
       "  color: #353;\n",
       "  border: 2px solid currentColor;\n",
       "  background-color: #4d4;\n",
       "  border-radius: 20px;\n",
       "  transition: all 0.2s;\n",
       "  content: &#x27;hello&#x27;;\n",
       "}\n",
       "#section3 midi-player::part(play-button):hover {\n",
       "  color: #0a0;\n",
       "  background-color: #5f5;\n",
       "  border-radius: 10px;\n",
       "}\n",
       "#section3 midi-player::part(time) {\n",
       "  font-family: monospace;\n",
       "}\n",
       "\n",
       "/* Custom visualizer style */\n",
       "#section3 midi-visualizer .piano-roll-visualizer {\n",
       "  background: #ffd;\n",
       "  border: 2px solid black;\n",
       "  border-top: none;\n",
       "  border-radius: 0 0 10px 10px;\n",
       "  margin: 4px;\n",
       "  width: inherit;\n",
       "  margin-top: 0;\n",
       "  overflow: auto;\n",
       "}\n",
       "#section3 midi-visualizer svg rect.note {\n",
       "  opacity: 0.6;\n",
       "  stroke-width: 2;\n",
       "}\n",
       "#section3 midi-visualizer svg rect.note[data-instrument=&quot;0&quot;]{\n",
       "  fill: #e22;\n",
       "  stroke: #500;\n",
       "}\n",
       "#section3 midi-visualizer svg rect.note[data-instrument=&quot;2&quot;]{\n",
       "  fill: #2ee;\n",
       "  stroke: #055;\n",
       "}\n",
       "#section3 midi-visualizer svg rect.note[data-is-drum=&quot;true&quot;]{\n",
       "  fill: #888;\n",
       "  stroke: #888;\n",
       "}\n",
       "#section3 midi-visualizer svg rect.note.active {\n",
       "  opacity: 0.9;\n",
       "  stroke: #000;\n",
       "  stroke-width: 3;\n",
       "}\n",
       "&lt;/style&gt;\n",
       "\n",
       "&lt;section id=&quot;section3&quot;&gt;\n",
       "&lt;a href=&quot;data:audio/midi;base64,TVRoZAAAAAYAAQACAYBNVHJrAAAAEwD/UQMHoSAA/1gEBAIYCAH/LwBNVHJrAAAOZADAAIYfkEEpBzggBjUYghJEMYFxSDWBb00yO0EAgT9DNAg6JQFNAIFOSAASOAAQTT8dRACBZ0w8KU0AgVNPPz1DAIE2PCkFRDqBeDoAAUg4AEwAA08AgX9NN4FkTDYHTQCBek1ACjgeBUwAFEgAgW5IMYFORAAeRjE9PACBHkgAGUQ3QkYAgThJPws6IUhNABNEAIEPRDKBNTgAMEM1gXJGNA1DAIFLSQAmQDATNyOBCDoARTUAGEk+DEQABkYAgVpIQYFYQAAeRj2Be0EmAERCCTUkAEgAFEkALTcAgT44N15GAGFBADQ8OIFrRjkEQTc7NQCBFkYAHUg0AjdAK0QAFzwAAUEADkgABzgAB0Y0L0YAIEgsR0gAB0ElAkY4LUYAFEgzQUgAAUY5R0YADEAzAUg7K0EACkYsDEgAL0YAEEgpXkYqBkM1DkgAGEAAQEQ2DEYARUQAC0Y8VUYABTgnCEhCE0MAgU9EQBs3AIFeQDWBUEgAJkE5LkAAgShEABZBAAc9NAE6KIEJOABnSTaBbkM1gWtDAAdGNYEtSQBDMCwHPCkAQDMTPQAKRgBFOgCBDjQ4gVE8AC83PYFcPDUPQTMzQAAjMAB+QQAZQzcKMTwqNAAJQwACPAAhQTU0QQAbQzshNwAFQwAYPC8EQTwpQQAXQz0oQwAcQTkoQQATQzsiPAAHQwALOi8XQTccQQAUQz8rQwAUQTs8QQAiQDUKPSYYQAAcQTAMOgBsQQAIQzAiNC5KMQA7PQBfSDiBWzcvCUY2FUgAgURDAB5JNIF/PCkGQCcFSQCBdEk5WkYAgRpIOQEwJg08AAQ3ABY0AIFDQAAdRjdJSQCBKCkyDEgABkU2AT8yPTAAVUYAUi07gXowPIFjNTkNRjsJRQAjKQAcPwAiLQB1MAAERgAGKkUPSDgUPR4FNQAvSAAQRjgwRgATSDVANTYFSAAERjgsRgAXSDM+SAADRjFBRgAMMzgASDsHNQA+RjcASAAyRgAcSCtFMwAFRhoJNjQ5RgANRS82SAAhRitIRQAPLS0HSDsBRgAvKgAHPQBFNgB2QTeBdDAnCD8xI0EAGC0AgUBCN4IHLTcjQgCBHzAANUI0Ij8AgVspLwFBMjctAIE1SAAIQQAEPziBeS4rAD0xBD8ADEIAgSkpAEpIPoFiRkE6SACBSUlIgQwuAGZDREtGAIEjSQALLjaBU0MAFjApAUY1PEYADEQ5FC4AH0QAFkY6IDExBDAAJkQgMEQAC0YADEMxHD0AREMAA0QyNysmEUQAA0Y2KjEAgUk8PIFrLigJPTcDPABXKwCBKEExgWc3KBAzLBRBABo9AFouAGNBNxk3AIFhJywRPzJOMwBAJwBsPTiBBkEAbkYADTw0AiwwAD8AEz0AgXEwKglEQoFuMzMESEaBVSwAGDg1BDwAgX4uNQk9MgYwAAJEABczAAc4AIFOSAACRkwNODKBZklJEDc0EzgAgVw9AAM6O14uAIEESQAQP0AKMDMCRgAFOgA2NwCBMUhOAjM5gXVLUgw4OIFdPwAcPDtRMACBJDE2BUFHB0gAE0sAPTMAADwAgR1JSgs8Lgk4AIFiTVAOOjMaPACBUUEADj0ySDEAgRBNAB4zNAZDNBNJAGE6AFY9AB5LQRQ3LYFVSUIBOi+BOTMAFUMAIz8rCEg4gT83ACs1NwE/AAZGNwdLADo6ABBJAANIAIEeQz0DPy4nRgCBPz0uC0Q5GEMAQj8AgRJJNgRBLiI1AIEISQA7SDIQNy8tQQADPQAjSAAIRAAGRi0qRgASSDA8SAACQRwRRjIpRgAbSDE8SAARRjclRgAlSD0kQQABPy0GSAAIRjWBez0kPD8AgS08KwE4KEg9AAc3AIETRgAdPymBZUE0CTcnLTgAgT0/AARDND1BAIE3NScNRDoeQwAJNwCBQ0QABEM/gVsxJhREPj01AC5DAIENTUozPAAtMQCBCEs7BTwuBjMrPkQADTwAGjoyMzoABzw0PzwAAEQ5Djo2MToADDw0MTwAEjo1KzoAEzw0I0M1EDwAGTo6GkQAgS9JP0UzAAVDABw6AIEDTQATSDkOOC8WLB0MSwCBKkgACUQ2HUkAgWRIPC1EAIFETEOBWSwAGk1IFUgALDgAgSM4OwlPQhdMAFNNAIEANzgHTENaOAAJTwCBDU1LAzU2M0wACTcAgT9PRgE0NAE1AIIDNy+Bazo4gTg0ADw9LRw3ADA6AIEmMDaBBT0AZTU3gXQ0MCo1AIFHNysNNAB1TQB1OCYRNSsCNwCBHk8AVUg+MzAAgUNNR4FjUEiBPEgAKDgAGEpERU0AITUAgQlNRgM1NIFBUAAkMzIHRzcGSgAMNQAATQCBVTIvBEg4CkcAPDMAATIAgSZIAAdHMwY3NThHACFINylIABVHOC1HABdIQBY7LRVIABxHPB9HABBIPz5HRwFIAFI+MIFUQzInNwBWRwALSDpyODcJSAAbOwAESjUYQwAWSgAXSDopSAAZSjsbQy4CPgAKSgAZSEAkSAAfSkAgSgAYSD8tSAAUSkAFQTgUQwAHSgATSEUtSAAVSkIoSgAZSD4VRDUOSAAQSjkWQQAaSgAQSD0jSAAbRzYZRwAVSEJESAAHOykZSjsQOAATRACBPE8/gXA+LwZNRClPAIFESgAWUDyBbkMyBEczB1AACk0AgXJQPnM7AIEHNyoAT0MHQwCBBj4Ac01HA1AALkcAgRFPACFNAANLQhE8K4EENwBiVESBazgwCk1BWUsAa1QAK1M9ggJUSAMzNoFjOAAEUwAGT0ZCTQCBMFBEBDUyWlQACTMAUk8AQ01IB1AAgU5NAAxLSA43LCQ1AIFRRzuBd0g5A0cAgW5CMoFcQgAYQzclSAAhSwCBKkgygW9IAAJKNAQ7IQI3AAFDADM8AIEmSgAVQSyBbkEABDAmAkgyDjwpajsAd0ExgW83LglALxFBAGU8AIEOQzQHQAAwSACBPzwwgXg1PIFTPAAeNDwWNwAdNQA7QwCBCTc/FjAAgXgtNg1BQzg3ADA0AIEcRUWBZ0EACDUyC0hDTEUAgRxLSBZIAIFnRUIEKTdeNQCBE05QBi0AJ0sAgUJISwU1OCApAIFHS0qBai4vDUlJBEgAUkUAR04AGTUAIzEuC0sAgXE1KQhGQIFiLgADOjV3MQB9MCoDQDEHNQAKOgCBejopgV84Lg5IMQFAAE06ABBJADwwAEY8MUg4AIE/MisIQS8RNSUARgBnPAB5RkNqQQCBBDctBkM5BDQvOzUAAkgAFDIAgR1ANYFzNAALPDYCOCgMNSsrQAAMNwCBFDwAGkA2LUYAV0MAeUE2CEAAgXBHLoF+SDICMCIBNyESQQBYNQAOOAB2QTEgRwCBXEAwAEEAgUZIAChDM4FyRjZiQwCBD0lAZEYAgQ5IQ4FlRj8HQAAIMS6BUjAAFzM0AkU+BDU5GDcAHEgACjEAWjUAHTMAQ0FBKUUAAUkAH0YAgTlFQQY/PYFsSEgmQQCBYE1NAUUAAT04cD8AeUZFgXo8LwlIAAFFQjdGAAI9AIE1S0qBbDouBTwABUlJGkUAYU0AYjY8HkQwUjYAgQMxOQ9DOSBJADhLAIEAOgAAQwAKRj8DLjQbMQCBVEA2CDc0gXUuAANISA0wMQRAAIFaRgAKMTYLQTwiMABDRACBBS4/B0ZHC0EAFjEAMEgAgSMwNwdAPBY3ABYuAIFLNzMBSUGBQEkAKEhEDzg0EkYAKzcAgTE7MgBAAAZBPoFuREMMPD0eQQAjOwBkMABPQTmCAEAzCDApAkEACTgAgWZAAAdDOIJEQwADMSMRQSsaRAA9SAAXMACBHUQtgXZIM4FtTTcgQQCBSk0AATovFUM0ZjwAZ0gAJk08H0QAgU1MMi5NAIFFTzc7QwCBBjEAP0QzCTwWCjAmcjoAY08AE0wAAkg1gXpNOoFvTQACTDaBdUwAAU1ADTgoAUgAgXVIMIERPABtRAABRjOBcEQvAUgAeUYAgQdJNwE6NoESRABQTQAlRCd8OABjQyyBcEY0E0MAgWxALQJJAAs3MoEkOgBLSTmBdkkAEEhAX0YAPEQAO0ZAEkAAgW5EOwc4OgJBKmNIABM3AHBBAA8/L4FvPjAePwCBWz4AAUEtKUYAgUY1Kgs7MiBEAIEzOAAcRDErQQCBPUM2gVBEAAk7ABVBNIFbQwALQDIGNyxWQQBfNQBQPDCBdzorCTwAgXM9JDc3AIE3NCIKNx4kPQCBRD0vCjoAgXQ8NAs3AF5AAIEFOjM8PAAUPQCBGToADzgtAzUrNjQAgUBIP4FwRkWBZkgADklFgXU3MwRAOgk6KQ44ABRJAEw1AIEGSUgMRgCBZEhJT0AAgRpGRxc3AIEaSQAyODoBPDIESAASRD80RgAjRAABOgCBE09IgXRNTD9PAIE7UEpCTQBZOABLOCsJNTAKR0AZUACBXlBJATwAgW9PS3BQAC9HAD9NSIFxTEgCOiICNyYETwBgOAAATQAKNQB/TUlPTABCNwB0T0SBPDAACU0AH0xId08AgQtSSgE3JwNMAAk0IYErOgA3SUGBOFIAMkg9HkkAgU5GOj1IAIEzNScAPCABRDkoNAASRgBRNwBoRjCBXEg0gXRBNixEAD9GAIEISjcCSAAQOycPPACBCUEAU0Q1gXZDNQdKAIFIRAARQTwDQwCBeTcoAUA3DkEADzUANTsAgR88PXs3AHE8AAs3Q4FlOkaBbjcAEzg+A0FHCToAZ0AAbjVJgXYvSh01AIFjMkQpLwCBWSQ0BDdJBUEAgR8yAFM+RQQ4AIIYNUgBPgALOzsHNwCCCTxHEjsAgkA1AAE3PIJSOjwBPACCfzw1RzoAgyNALoFYPAApNwCFCjkkBjUgA0ErAykcBjwVgRVAAA0kAJADNQCDdCkAQEEABDwAYjkAAf8vAA==&quot; target=&quot;_blank&quot;&gt;Download MIDI&lt;/a&gt;&lt;br&gt;\n",
       "&lt;midi-player src=data:audio/midi;base64,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 sound-font visualizer=&quot;#section3 midi-visualizer&quot;&gt;&lt;/midi-player&gt;\n",
       "&lt;midi-visualizer src=data:audio/midi;base64,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 type=piano-roll&gt;&lt;/midi-visualizer&gt;\n",
       "&lt;/section&gt;\n",
       "\" width=\"100%\" height=\"420\"\n",
       "            style=\"border:none !important;\"\n",
       "            \"allowfullscreen\" \"webkitallowfullscreen\" \"mozallowfullscreen\">'\n",
       "            </iframe>"
      ],
      "text/plain": [
       "<midi_player.midi_player.MIDIPlayer at 0x105556150>"
      ]
     },
     "execution_count": 7,
     "metadata": {},
     "output_type": "execute_result"
    }
   ],
   "source": [
    "# local file\n",
    "m2 = MIDIPlayer(midi_file, 420, styler=cifka_advanced) # save it for use with WandB (below)\n",
    "m2"
   ]
  },
  {
   "cell_type": "markdown",
   "id": "d931936e",
   "metadata": {
    "id": "h8crOPD0vsHU"
   },
   "source": [
    "# WandB Logging\n"
   ]
  },
  {
   "cell_type": "code",
   "execution_count": 8,
   "id": "a6e6c9cc",
   "metadata": {
    "id": "3jqpMQkKwIFQ"
   },
   "outputs": [],
   "source": [
    "!pip install -Uqq wandb"
   ]
  },
  {
   "cell_type": "code",
   "execution_count": 8,
   "id": "d85902b9",
   "metadata": {
    "colab": {
     "base_uri": "https://localhost:8080/"
    },
    "id": "6q4RkB2_v-qs",
    "outputId": "3d3cc6bc-6fce-4fba-c174-df13309e306e"
   },
   "outputs": [
    {
     "name": "stderr",
     "output_type": "stream",
     "text": [
      "wandb: Currently logged in as: drscotthawley. Use `wandb login --relogin` to force relogin\n"
     ]
    },
    {
     "data": {
      "text/plain": [
       "True"
      ]
     },
     "execution_count": 8,
     "metadata": {},
     "output_type": "execute_result"
    }
   ],
   "source": [
    "import wandb\n",
    "\n",
    "wandb.login()"
   ]
  },
  {
   "cell_type": "code",
   "execution_count": 9,
   "id": "b9202a67",
   "metadata": {
    "colab": {
     "base_uri": "https://localhost:8080/",
     "height": 156,
     "referenced_widgets": [
      "9f559e34233947dc9a93a98091face78",
      "420931f6e59846388c86bdd02b241c30",
      "9043d149a4ee4ab7a12dcc0af19a6858",
      "f132b42d326d49d0822a994eee0f9094",
      "b91d604eff8d47e599cb7bc9aa230b0d",
      "c4e4b95b3d9c495cb50cbefb4b035ce4",
      "643c181e422842d3be5725caa0e9ef57",
      "f0d8ef364dfe45d58a3846f5f123b437"
     ]
    },
    "id": "YTOiACmBQyMQ",
    "outputId": "51f7d82b-2631-4bc2-f3fc-61710ae956e6"
   },
   "outputs": [
    {
     "data": {
      "text/html": [
       "Tracking run with wandb version 0.16.0"
      ],
      "text/plain": [
       "<IPython.core.display.HTML object>"
      ]
     },
     "metadata": {},
     "output_type": "display_data"
    },
    {
     "data": {
      "text/html": [
       "Run data is saved locally in <code>/Users/shawley/github/midi-player/examples/wandb/run-20231128_114731-ban16taq</code>"
      ],
      "text/plain": [
       "<IPython.core.display.HTML object>"
      ]
     },
     "metadata": {},
     "output_type": "display_data"
    },
    {
     "data": {
      "text/html": [
       "Syncing run <strong><a href='https://wandb.ai/drscotthawley/html-midi-player/runs/ban16taq' target=\"_blank\">resilient-water-12</a></strong> to <a href='https://wandb.ai/drscotthawley/html-midi-player' target=\"_blank\">Weights & Biases</a> (<a href='https://wandb.me/run' target=\"_blank\">docs</a>)<br/>"
      ],
      "text/plain": [
       "<IPython.core.display.HTML object>"
      ]
     },
     "metadata": {},
     "output_type": "display_data"
    },
    {
     "data": {
      "text/html": [
       " View project at <a href='https://wandb.ai/drscotthawley/html-midi-player' target=\"_blank\">https://wandb.ai/drscotthawley/html-midi-player</a>"
      ],
      "text/plain": [
       "<IPython.core.display.HTML object>"
      ]
     },
     "metadata": {},
     "output_type": "display_data"
    },
    {
     "data": {
      "text/html": [
       " View run at <a href='https://wandb.ai/drscotthawley/html-midi-player/runs/ban16taq' target=\"_blank\">https://wandb.ai/drscotthawley/html-midi-player/runs/ban16taq</a>"
      ],
      "text/plain": [
       "<IPython.core.display.HTML object>"
      ]
     },
     "metadata": {},
     "output_type": "display_data"
    },
    {
     "data": {
      "application/vnd.jupyter.widget-view+json": {
       "model_id": "",
       "version_major": 2,
       "version_minor": 0
      },
      "text/plain": [
       "VBox(children=(Label(value='0.023 MB of 0.028 MB uploaded\\r'), FloatProgress(value=0.8334364473774661, max=1.0…"
      ]
     },
     "metadata": {},
     "output_type": "display_data"
    },
    {
     "data": {
      "text/html": [
       " View run <strong style=\"color:#cdcd00\">resilient-water-12</strong> at: <a href='https://wandb.ai/drscotthawley/html-midi-player/runs/ban16taq' target=\"_blank\">https://wandb.ai/drscotthawley/html-midi-player/runs/ban16taq</a><br/> View job at <a href='https://wandb.ai/drscotthawley/html-midi-player/jobs/QXJ0aWZhY3RDb2xsZWN0aW9uOjExOTQ2MDQ1NQ==/version_details/v0' target=\"_blank\">https://wandb.ai/drscotthawley/html-midi-player/jobs/QXJ0aWZhY3RDb2xsZWN0aW9uOjExOTQ2MDQ1NQ==/version_details/v0</a><br/>Synced 4 W&B file(s), 1 media file(s), 2 artifact file(s) and 0 other file(s)"
      ],
      "text/plain": [
       "<IPython.core.display.HTML object>"
      ]
     },
     "metadata": {},
     "output_type": "display_data"
    },
    {
     "data": {
      "text/html": [
       "Find logs at: <code>./wandb/run-20231128_114731-ban16taq/logs</code>"
      ],
      "text/plain": [
       "<IPython.core.display.HTML object>"
      ]
     },
     "metadata": {},
     "output_type": "display_data"
    }
   ],
   "source": [
    "wandb.init(project='html-midi-player')\n",
    "wandb.log({'player':wandb.Html(m2.html)})\n",
    "wandb.finish()"
   ]
  },
  {
   "cell_type": "markdown",
   "id": "60f9f869",
   "metadata": {
    "id": "P7TYbVfsJMUy"
   },
   "source": [
    "# Other Viz Styles\n",
    "cf. https://magenta.github.io/magenta-js/music/modules/_core_visualizer_.html"
   ]
  },
  {
   "cell_type": "code",
   "execution_count": 10,
   "id": "f512c586",
   "metadata": {
    "colab": {
     "base_uri": "https://localhost:8080/",
     "height": 321
    },
    "id": "lg5ES-9vJMEY",
    "outputId": "f4ddf9da-5063-4e8b-d214-627ee9d5bc3f"
   },
   "outputs": [
    {
     "data": {
      "text/html": [
       "<iframe srcdoc=\"&lt;script src=&quot;https://cdn.jsdelivr.net/combine/npm/tone@14.7.58,npm/@magenta/music@1.23.1/es6/core.js,npm/focus-visible@5,npm/html-midi-player@1.5.0&quot;&gt;&lt;/script&gt;&lt;a href=&quot;data:audio/midi;base64,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&quot; target=&quot;_blank&quot;&gt;Download MIDI&lt;/a&gt;&lt;br&gt;\n",
       "            &lt;midi-player src=&quot;data:audio/midi;base64,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&quot; sound-font visualizer=&quot;#myVisualizer&quot;&gt;&lt;/midi-player&gt;\n",
       "            &lt;midi-visualizer type=&quot;waterfall&quot; id=&quot;myVisualizer&quot; style=&quot;background: #fff;&quot;&gt;&lt;/midi-visualizer&gt;\" width=\"100%\" height=\"300\"\n",
       "            style=\"border:none !important;\"\n",
       "            \"allowfullscreen\" \"webkitallowfullscreen\" \"mozallowfullscreen\">'\n",
       "            </iframe>"
      ],
      "text/plain": [
       "<midi_player.midi_player.MIDIPlayer at 0x1294541d0>"
      ]
     },
     "execution_count": 10,
     "metadata": {},
     "output_type": "execute_result"
    }
   ],
   "source": [
    "MIDIPlayer(midi_file, 300, viz_type=\"waterfall\") # press play to see viz"
   ]
  },
  {
   "cell_type": "code",
   "execution_count": 11,
   "id": "aaeb571d",
   "metadata": {
    "colab": {
     "base_uri": "https://localhost:8080/",
     "height": 221
    },
    "id": "FrOS7r44KK5m",
    "outputId": "544032c3-bb7a-4940-b0b6-50a288f77952"
   },
   "outputs": [
    {
     "data": {
      "text/html": [
       "<iframe srcdoc=\"&lt;script src=&quot;https://cdn.jsdelivr.net/combine/npm/tone@14.7.58,npm/@magenta/music@1.23.1/es6/core.js,npm/focus-visible@5,npm/html-midi-player@1.5.0&quot;&gt;&lt;/script&gt;&lt;a href=&quot;data:audio/midi;base64,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&quot; target=&quot;_blank&quot;&gt;Download MIDI&lt;/a&gt;&lt;br&gt;\n",
       "            &lt;midi-player src=&quot;data:audio/midi;base64,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&quot; sound-font visualizer=&quot;#myVisualizer&quot;&gt;&lt;/midi-player&gt;\n",
       "            &lt;midi-visualizer type=&quot;staff&quot; id=&quot;myVisualizer&quot; style=&quot;background: #fff;&quot;&gt;&lt;/midi-visualizer&gt;\" width=\"100%\" height=\"200\"\n",
       "            style=\"border:none !important;\"\n",
       "            \"allowfullscreen\" \"webkitallowfullscreen\" \"mozallowfullscreen\">'\n",
       "            </iframe>"
      ],
      "text/plain": [
       "<midi_player.midi_player.MIDIPlayer at 0x11ed9d1d0>"
      ]
     },
     "execution_count": 11,
     "metadata": {},
     "output_type": "execute_result"
    }
   ],
   "source": [
    "# NOTE: 'staff' viz has a sideways scrollbar you can use.\n",
    "#       If you move the audio slider, you'll need to MANUALLY move the scrollbar to find the current play location.\n",
    "staffplayer = MIDIPlayer(midi_file, 200, viz_type=\"staff\") # press play to see viz\n",
    "staffplayer"
   ]
  },
  {
   "cell_type": "markdown",
   "id": "8752e5b0",
   "metadata": {
    "id": "JRBrcZXMvmWN"
   },
   "source": [
    "...uh... it's all 32nd notes? Not fun to read. Maybe there's a tempo parameter I need to specify."
   ]
  },
  {
   "cell_type": "markdown",
   "id": "42469a36",
   "metadata": {
    "id": "tXAXGQKaQSdQ"
   },
   "source": [
    "Let's send that animated score to WandB:"
   ]
  },
  {
   "cell_type": "code",
   "execution_count": 12,
   "id": "f7147a43",
   "metadata": {
    "colab": {
     "base_uri": "https://localhost:8080/",
     "height": 156,
     "referenced_widgets": [
      "5cc387f905ab4fb3b309cac08fb3bbbc",
      "60112eb509e44822b157ccd8bd0360b1",
      "39d3128c378c43bfa76b6f43b2867a51",
      "8ae38ac4a9f5403ebf07d04d9756fb58",
      "38dc8bf8f85e467ca91d9400a0fedbe4",
      "fe8fcb468130474b8dd2ebeb41565fcc",
      "c6c4e206f0844eeb957652440c459e9a",
      "bd41e10d10fb41ba907695a0ca0ab809"
     ]
    },
    "id": "ptqmRmyxLNVV",
    "outputId": "f2ea33b1-78c0-4391-aa05-d9228621848a"
   },
   "outputs": [
    {
     "data": {
      "text/html": [
       "Tracking run with wandb version 0.16.0"
      ],
      "text/plain": [
       "<IPython.core.display.HTML object>"
      ]
     },
     "metadata": {},
     "output_type": "display_data"
    },
    {
     "data": {
      "text/html": [
       "Run data is saved locally in <code>/Users/shawley/github/midi-player/examples/wandb/run-20231128_114747-vg9qj8vi</code>"
      ],
      "text/plain": [
       "<IPython.core.display.HTML object>"
      ]
     },
     "metadata": {},
     "output_type": "display_data"
    },
    {
     "data": {
      "text/html": [
       "Syncing run <strong><a href='https://wandb.ai/drscotthawley/html-midi-player/runs/vg9qj8vi' target=\"_blank\">classic-cherry-13</a></strong> to <a href='https://wandb.ai/drscotthawley/html-midi-player' target=\"_blank\">Weights & Biases</a> (<a href='https://wandb.me/run' target=\"_blank\">docs</a>)<br/>"
      ],
      "text/plain": [
       "<IPython.core.display.HTML object>"
      ]
     },
     "metadata": {},
     "output_type": "display_data"
    },
    {
     "data": {
      "text/html": [
       " View project at <a href='https://wandb.ai/drscotthawley/html-midi-player' target=\"_blank\">https://wandb.ai/drscotthawley/html-midi-player</a>"
      ],
      "text/plain": [
       "<IPython.core.display.HTML object>"
      ]
     },
     "metadata": {},
     "output_type": "display_data"
    },
    {
     "data": {
      "text/html": [
       " View run at <a href='https://wandb.ai/drscotthawley/html-midi-player/runs/vg9qj8vi' target=\"_blank\">https://wandb.ai/drscotthawley/html-midi-player/runs/vg9qj8vi</a>"
      ],
      "text/plain": [
       "<IPython.core.display.HTML object>"
      ]
     },
     "metadata": {},
     "output_type": "display_data"
    },
    {
     "data": {
      "application/vnd.jupyter.widget-view+json": {
       "model_id": "",
       "version_major": 2,
       "version_minor": 0
      },
      "text/plain": [
       "VBox(children=(Label(value='0.011 MB of 0.011 MB uploaded\\r'), FloatProgress(value=1.0, max=1.0)))"
      ]
     },
     "metadata": {},
     "output_type": "display_data"
    },
    {
     "data": {
      "text/html": [
       " View run <strong style=\"color:#cdcd00\">classic-cherry-13</strong> at: <a href='https://wandb.ai/drscotthawley/html-midi-player/runs/vg9qj8vi' target=\"_blank\">https://wandb.ai/drscotthawley/html-midi-player/runs/vg9qj8vi</a><br/> View job at <a href='https://wandb.ai/drscotthawley/html-midi-player/jobs/QXJ0aWZhY3RDb2xsZWN0aW9uOjExOTQ2MDQ1NQ==/version_details/v0' target=\"_blank\">https://wandb.ai/drscotthawley/html-midi-player/jobs/QXJ0aWZhY3RDb2xsZWN0aW9uOjExOTQ2MDQ1NQ==/version_details/v0</a><br/>Synced 4 W&B file(s), 1 media file(s), 0 artifact file(s) and 0 other file(s)"
      ],
      "text/plain": [
       "<IPython.core.display.HTML object>"
      ]
     },
     "metadata": {},
     "output_type": "display_data"
    },
    {
     "data": {
      "text/html": [
       "Find logs at: <code>./wandb/run-20231128_114747-vg9qj8vi/logs</code>"
      ],
      "text/plain": [
       "<IPython.core.display.HTML object>"
      ]
     },
     "metadata": {},
     "output_type": "display_data"
    }
   ],
   "source": [
    "wandb.init(project='html-midi-player')\n",
    "wandb.log({'player':wandb.Html(staffplayer.html)})\n",
    "wandb.finish()"
   ]
  },
  {
   "cell_type": "code",
   "execution_count": null,
   "id": "58bd1c83",
   "metadata": {},
   "outputs": [],
   "source": []
  }
 ],
 "metadata": {
  "colab": {
   "provenance": [],
   "toc_visible": true
  },
  "kernelspec": {
   "display_name": "Python 3 (ipyflow)",
   "language": "python",
   "name": "ipyflow"
  },
  "language_info": {
   "codemirror_mode": {
    "name": "ipython",
    "version": 3
   },
   "file_extension": ".py",
   "mimetype": "text/x-python",
   "name": "python",
   "nbconvert_exporter": "python",
   "pygments_lexer": "ipython3",
   "version": "3.11.4"
  },
  "widgets": {
   "application/vnd.jupyter.widget-state+json": {
    "38dc8bf8f85e467ca91d9400a0fedbe4": {
     "model_module": "@jupyter-widgets/base",
     "model_module_version": "1.2.0",
     "model_name": "LayoutModel",
     "state": {
      "_model_module": "@jupyter-widgets/base",
      "_model_module_version": "1.2.0",
      "_model_name": "LayoutModel",
      "_view_count": null,
      "_view_module": "@jupyter-widgets/base",
      "_view_module_version": "1.2.0",
      "_view_name": "LayoutView",
      "align_content": null,
      "align_items": null,
      "align_self": null,
      "border": null,
      "bottom": null,
      "display": null,
      "flex": null,
      "flex_flow": null,
      "grid_area": null,
      "grid_auto_columns": null,
      "grid_auto_flow": null,
      "grid_auto_rows": null,
      "grid_column": null,
      "grid_gap": null,
      "grid_row": null,
      "grid_template_areas": null,
      "grid_template_columns": null,
      "grid_template_rows": null,
      "height": null,
      "justify_content": null,
      "justify_items": null,
      "left": null,
      "margin": null,
      "max_height": null,
      "max_width": null,
      "min_height": null,
      "min_width": null,
      "object_fit": null,
      "object_position": null,
      "order": null,
      "overflow": null,
      "overflow_x": null,
      "overflow_y": null,
      "padding": null,
      "right": null,
      "top": null,
      "visibility": null,
      "width": null
     }
    },
    "39d3128c378c43bfa76b6f43b2867a51": {
     "model_module": "@jupyter-widgets/controls",
     "model_module_version": "1.5.0",
     "model_name": "FloatProgressModel",
     "state": {
      "_dom_classes": [],
      "_model_module": "@jupyter-widgets/controls",
      "_model_module_version": "1.5.0",
      "_model_name": "FloatProgressModel",
      "_view_count": null,
      "_view_module": "@jupyter-widgets/controls",
      "_view_module_version": "1.5.0",
      "_view_name": "ProgressView",
      "bar_style": "",
      "description": "",
      "description_tooltip": null,
      "layout": "IPY_MODEL_c6c4e206f0844eeb957652440c459e9a",
      "max": 1,
      "min": 0,
      "orientation": "horizontal",
      "style": "IPY_MODEL_bd41e10d10fb41ba907695a0ca0ab809",
      "value": 1
     }
    },
    "420931f6e59846388c86bdd02b241c30": {
     "model_module": "@jupyter-widgets/controls",
     "model_module_version": "1.5.0",
     "model_name": "LabelModel",
     "state": {
      "_dom_classes": [],
      "_model_module": "@jupyter-widgets/controls",
      "_model_module_version": "1.5.0",
      "_model_name": "LabelModel",
      "_view_count": null,
      "_view_module": "@jupyter-widgets/controls",
      "_view_module_version": "1.5.0",
      "_view_name": "LabelView",
      "description": "",
      "description_tooltip": null,
      "layout": "IPY_MODEL_b91d604eff8d47e599cb7bc9aa230b0d",
      "placeholder": "​",
      "style": "IPY_MODEL_c4e4b95b3d9c495cb50cbefb4b035ce4",
      "value": "0.018 MB of 0.018 MB uploaded\r"
     }
    },
    "5cc387f905ab4fb3b309cac08fb3bbbc": {
     "model_module": "@jupyter-widgets/controls",
     "model_module_version": "1.5.0",
     "model_name": "VBoxModel",
     "state": {
      "_dom_classes": [],
      "_model_module": "@jupyter-widgets/controls",
      "_model_module_version": "1.5.0",
      "_model_name": "VBoxModel",
      "_view_count": null,
      "_view_module": "@jupyter-widgets/controls",
      "_view_module_version": "1.5.0",
      "_view_name": "VBoxView",
      "box_style": "",
      "children": [
       "IPY_MODEL_60112eb509e44822b157ccd8bd0360b1",
       "IPY_MODEL_39d3128c378c43bfa76b6f43b2867a51"
      ],
      "layout": "IPY_MODEL_8ae38ac4a9f5403ebf07d04d9756fb58"
     }
    },
    "60112eb509e44822b157ccd8bd0360b1": {
     "model_module": "@jupyter-widgets/controls",
     "model_module_version": "1.5.0",
     "model_name": "LabelModel",
     "state": {
      "_dom_classes": [],
      "_model_module": "@jupyter-widgets/controls",
      "_model_module_version": "1.5.0",
      "_model_name": "LabelModel",
      "_view_count": null,
      "_view_module": "@jupyter-widgets/controls",
      "_view_module_version": "1.5.0",
      "_view_name": "LabelView",
      "description": "",
      "description_tooltip": null,
      "layout": "IPY_MODEL_38dc8bf8f85e467ca91d9400a0fedbe4",
      "placeholder": "​",
      "style": "IPY_MODEL_fe8fcb468130474b8dd2ebeb41565fcc",
      "value": "0.014 MB of 0.014 MB uploaded\r"
     }
    },
    "643c181e422842d3be5725caa0e9ef57": {
     "model_module": "@jupyter-widgets/base",
     "model_module_version": "1.2.0",
     "model_name": "LayoutModel",
     "state": {
      "_model_module": "@jupyter-widgets/base",
      "_model_module_version": "1.2.0",
      "_model_name": "LayoutModel",
      "_view_count": null,
      "_view_module": "@jupyter-widgets/base",
      "_view_module_version": "1.2.0",
      "_view_name": "LayoutView",
      "align_content": null,
      "align_items": null,
      "align_self": null,
      "border": null,
      "bottom": null,
      "display": null,
      "flex": null,
      "flex_flow": null,
      "grid_area": null,
      "grid_auto_columns": null,
      "grid_auto_flow": null,
      "grid_auto_rows": null,
      "grid_column": null,
      "grid_gap": null,
      "grid_row": null,
      "grid_template_areas": null,
      "grid_template_columns": null,
      "grid_template_rows": null,
      "height": null,
      "justify_content": null,
      "justify_items": null,
      "left": null,
      "margin": null,
      "max_height": null,
      "max_width": null,
      "min_height": null,
      "min_width": null,
      "object_fit": null,
      "object_position": null,
      "order": null,
      "overflow": null,
      "overflow_x": null,
      "overflow_y": null,
      "padding": null,
      "right": null,
      "top": null,
      "visibility": null,
      "width": null
     }
    },
    "8ae38ac4a9f5403ebf07d04d9756fb58": {
     "model_module": "@jupyter-widgets/base",
     "model_module_version": "1.2.0",
     "model_name": "LayoutModel",
     "state": {
      "_model_module": "@jupyter-widgets/base",
      "_model_module_version": "1.2.0",
      "_model_name": "LayoutModel",
      "_view_count": null,
      "_view_module": "@jupyter-widgets/base",
      "_view_module_version": "1.2.0",
      "_view_name": "LayoutView",
      "align_content": null,
      "align_items": null,
      "align_self": null,
      "border": null,
      "bottom": null,
      "display": null,
      "flex": null,
      "flex_flow": null,
      "grid_area": null,
      "grid_auto_columns": null,
      "grid_auto_flow": null,
      "grid_auto_rows": null,
      "grid_column": null,
      "grid_gap": null,
      "grid_row": null,
      "grid_template_areas": null,
      "grid_template_columns": null,
      "grid_template_rows": null,
      "height": null,
      "justify_content": null,
      "justify_items": null,
      "left": null,
      "margin": null,
      "max_height": null,
      "max_width": null,
      "min_height": null,
      "min_width": null,
      "object_fit": null,
      "object_position": null,
      "order": null,
      "overflow": null,
      "overflow_x": null,
      "overflow_y": null,
      "padding": null,
      "right": null,
      "top": null,
      "visibility": null,
      "width": null
     }
    },
    "9043d149a4ee4ab7a12dcc0af19a6858": {
     "model_module": "@jupyter-widgets/controls",
     "model_module_version": "1.5.0",
     "model_name": "FloatProgressModel",
     "state": {
      "_dom_classes": [],
      "_model_module": "@jupyter-widgets/controls",
      "_model_module_version": "1.5.0",
      "_model_name": "FloatProgressModel",
      "_view_count": null,
      "_view_module": "@jupyter-widgets/controls",
      "_view_module_version": "1.5.0",
      "_view_name": "ProgressView",
      "bar_style": "",
      "description": "",
      "description_tooltip": null,
      "layout": "IPY_MODEL_643c181e422842d3be5725caa0e9ef57",
      "max": 1,
      "min": 0,
      "orientation": "horizontal",
      "style": "IPY_MODEL_f0d8ef364dfe45d58a3846f5f123b437",
      "value": 1
     }
    },
    "9f559e34233947dc9a93a98091face78": {
     "model_module": "@jupyter-widgets/controls",
     "model_module_version": "1.5.0",
     "model_name": "VBoxModel",
     "state": {
      "_dom_classes": [],
      "_model_module": "@jupyter-widgets/controls",
      "_model_module_version": "1.5.0",
      "_model_name": "VBoxModel",
      "_view_count": null,
      "_view_module": "@jupyter-widgets/controls",
      "_view_module_version": "1.5.0",
      "_view_name": "VBoxView",
      "box_style": "",
      "children": [
       "IPY_MODEL_420931f6e59846388c86bdd02b241c30",
       "IPY_MODEL_9043d149a4ee4ab7a12dcc0af19a6858"
      ],
      "layout": "IPY_MODEL_f132b42d326d49d0822a994eee0f9094"
     }
    },
    "b91d604eff8d47e599cb7bc9aa230b0d": {
     "model_module": "@jupyter-widgets/base",
     "model_module_version": "1.2.0",
     "model_name": "LayoutModel",
     "state": {
      "_model_module": "@jupyter-widgets/base",
      "_model_module_version": "1.2.0",
      "_model_name": "LayoutModel",
      "_view_count": null,
      "_view_module": "@jupyter-widgets/base",
      "_view_module_version": "1.2.0",
      "_view_name": "LayoutView",
      "align_content": null,
      "align_items": null,
      "align_self": null,
      "border": null,
      "bottom": null,
      "display": null,
      "flex": null,
      "flex_flow": null,
      "grid_area": null,
      "grid_auto_columns": null,
      "grid_auto_flow": null,
      "grid_auto_rows": null,
      "grid_column": null,
      "grid_gap": null,
      "grid_row": null,
      "grid_template_areas": null,
      "grid_template_columns": null,
      "grid_template_rows": null,
      "height": null,
      "justify_content": null,
      "justify_items": null,
      "left": null,
      "margin": null,
      "max_height": null,
      "max_width": null,
      "min_height": null,
      "min_width": null,
      "object_fit": null,
      "object_position": null,
      "order": null,
      "overflow": null,
      "overflow_x": null,
      "overflow_y": null,
      "padding": null,
      "right": null,
      "top": null,
      "visibility": null,
      "width": null
     }
    },
    "bd41e10d10fb41ba907695a0ca0ab809": {
     "model_module": "@jupyter-widgets/controls",
     "model_module_version": "1.5.0",
     "model_name": "ProgressStyleModel",
     "state": {
      "_model_module": "@jupyter-widgets/controls",
      "_model_module_version": "1.5.0",
      "_model_name": "ProgressStyleModel",
      "_view_count": null,
      "_view_module": "@jupyter-widgets/base",
      "_view_module_version": "1.2.0",
      "_view_name": "StyleView",
      "bar_color": null,
      "description_width": ""
     }
    },
    "c4e4b95b3d9c495cb50cbefb4b035ce4": {
     "model_module": "@jupyter-widgets/controls",
     "model_module_version": "1.5.0",
     "model_name": "DescriptionStyleModel",
     "state": {
      "_model_module": "@jupyter-widgets/controls",
      "_model_module_version": "1.5.0",
      "_model_name": "DescriptionStyleModel",
      "_view_count": null,
      "_view_module": "@jupyter-widgets/base",
      "_view_module_version": "1.2.0",
      "_view_name": "StyleView",
      "description_width": ""
     }
    },
    "c6c4e206f0844eeb957652440c459e9a": {
     "model_module": "@jupyter-widgets/base",
     "model_module_version": "1.2.0",
     "model_name": "LayoutModel",
     "state": {
      "_model_module": "@jupyter-widgets/base",
      "_model_module_version": "1.2.0",
      "_model_name": "LayoutModel",
      "_view_count": null,
      "_view_module": "@jupyter-widgets/base",
      "_view_module_version": "1.2.0",
      "_view_name": "LayoutView",
      "align_content": null,
      "align_items": null,
      "align_self": null,
      "border": null,
      "bottom": null,
      "display": null,
      "flex": null,
      "flex_flow": null,
      "grid_area": null,
      "grid_auto_columns": null,
      "grid_auto_flow": null,
      "grid_auto_rows": null,
      "grid_column": null,
      "grid_gap": null,
      "grid_row": null,
      "grid_template_areas": null,
      "grid_template_columns": null,
      "grid_template_rows": null,
      "height": null,
      "justify_content": null,
      "justify_items": null,
      "left": null,
      "margin": null,
      "max_height": null,
      "max_width": null,
      "min_height": null,
      "min_width": null,
      "object_fit": null,
      "object_position": null,
      "order": null,
      "overflow": null,
      "overflow_x": null,
      "overflow_y": null,
      "padding": null,
      "right": null,
      "top": null,
      "visibility": null,
      "width": null
     }
    },
    "f0d8ef364dfe45d58a3846f5f123b437": {
     "model_module": "@jupyter-widgets/controls",
     "model_module_version": "1.5.0",
     "model_name": "ProgressStyleModel",
     "state": {
      "_model_module": "@jupyter-widgets/controls",
      "_model_module_version": "1.5.0",
      "_model_name": "ProgressStyleModel",
      "_view_count": null,
      "_view_module": "@jupyter-widgets/base",
      "_view_module_version": "1.2.0",
      "_view_name": "StyleView",
      "bar_color": null,
      "description_width": ""
     }
    },
    "f132b42d326d49d0822a994eee0f9094": {
     "model_module": "@jupyter-widgets/base",
     "model_module_version": "1.2.0",
     "model_name": "LayoutModel",
     "state": {
      "_model_module": "@jupyter-widgets/base",
      "_model_module_version": "1.2.0",
      "_model_name": "LayoutModel",
      "_view_count": null,
      "_view_module": "@jupyter-widgets/base",
      "_view_module_version": "1.2.0",
      "_view_name": "LayoutView",
      "align_content": null,
      "align_items": null,
      "align_self": null,
      "border": null,
      "bottom": null,
      "display": null,
      "flex": null,
      "flex_flow": null,
      "grid_area": null,
      "grid_auto_columns": null,
      "grid_auto_flow": null,
      "grid_auto_rows": null,
      "grid_column": null,
      "grid_gap": null,
      "grid_row": null,
      "grid_template_areas": null,
      "grid_template_columns": null,
      "grid_template_rows": null,
      "height": null,
      "justify_content": null,
      "justify_items": null,
      "left": null,
      "margin": null,
      "max_height": null,
      "max_width": null,
      "min_height": null,
      "min_width": null,
      "object_fit": null,
      "object_position": null,
      "order": null,
      "overflow": null,
      "overflow_x": null,
      "overflow_y": null,
      "padding": null,
      "right": null,
      "top": null,
      "visibility": null,
      "width": null
     }
    },
    "fe8fcb468130474b8dd2ebeb41565fcc": {
     "model_module": "@jupyter-widgets/controls",
     "model_module_version": "1.5.0",
     "model_name": "DescriptionStyleModel",
     "state": {
      "_model_module": "@jupyter-widgets/controls",
      "_model_module_version": "1.5.0",
      "_model_name": "DescriptionStyleModel",
      "_view_count": null,
      "_view_module": "@jupyter-widgets/base",
      "_view_module_version": "1.2.0",
      "_view_name": "StyleView",
      "description_width": ""
     }
    }
   }
  }
 },
 "nbformat": 4,
 "nbformat_minor": 5
}
